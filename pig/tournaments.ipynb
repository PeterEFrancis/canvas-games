{
 "cells": [
  {
   "cell_type": "markdown",
   "metadata": {},
   "source": [
    "# pig strategy classification"
   ]
  },
  {
   "cell_type": "code",
   "execution_count": 181,
   "metadata": {},
   "outputs": [],
   "source": [
    "import random\n",
    "import math\n",
    "import numpy as np\n",
    "from numba import njit"
   ]
  },
  {
   "cell_type": "code",
   "execution_count": 182,
   "metadata": {},
   "outputs": [],
   "source": [
    "@njit\n",
    "def own_should_roll(difficulties0, difficulties1, turn_totals0, turn_totals1, scores0, scores1, num_turns_held0, num_turns_held1, own):\n",
    "    difficulties = [difficulties0, difficulties1]\n",
    "    turn_totals = [turn_totals0, turn_totals1]\n",
    "    scores = [scores0, scores1]\n",
    "    num_turns_held = [num_turns_held0, num_turns_held1]\n",
    "    own_difficulty = difficulties[own]\n",
    "    \n",
    "    # keep pace and end race\n",
    "    if own_difficulty == 4:\n",
    "        if scores[own] + turn_totals[own] >= 100:\n",
    "            return False\n",
    "        if scores[1 - own] >= 71 or scores[own] >= 71 or turn_totals[own] < 21 + round((scores[1 - own] - scores[own]) / 8):\n",
    "            return True\n",
    "        return False\n",
    "    \n",
    "    # Score Base, Keep Pace, and End Race\n",
    "    elif own_difficulty == 3:\n",
    "        if scores[1 - own] >= 69 or scores[own] >= 69:\n",
    "            return True\n",
    "        else:\n",
    "            if turn_totals[own] >= max(19, scores[1 - own]):\n",
    "                return False\n",
    "            else:\n",
    "                return True\n",
    "      \n",
    "    # 4 scoring turns\n",
    "    elif own_difficulty == 2:\n",
    "        if turn_totals[own] >= math.floor((100 - scores[own]) / (4 - num_turns_held[own])):\n",
    "            return False\n",
    "        else:\n",
    "            return True\n",
    "    \n",
    "    # hold at 25 or 100\n",
    "    elif own_difficulty == 1:\n",
    "        if turn_totals[own] >= 25 or scores[own] + turn_totals[own] >= 100:\n",
    "            return False\n",
    "        else:\n",
    "            return True\n",
    "    \n",
    "    # hold at 20 or 100\n",
    "    elif own_difficulty == 0: \n",
    "        if turn_totals[own] >= 20 or scores[own] + turn_totals[own] >= 100:\n",
    "            return False\n",
    "        else:\n",
    "            return True\n",
    "\n",
    "@njit\n",
    "def simulate_game(a,b):\n",
    "    difficulties = [a,b]\n",
    "    scores = [0,0]\n",
    "    current_player = 0\n",
    "    num_turns_held = [0,0]\n",
    "    while scores[0] < 100 and scores[1] < 100:\n",
    "#         print(f\"player {current_player}\")\n",
    "        roll = 0\n",
    "        turn_totals = [0,0]\n",
    "        while roll != 1 and turn_totals[current_player] + scores[current_player] < 100:\n",
    "            \n",
    "            \n",
    "            \n",
    "            \n",
    "            \n",
    "            if own_should_roll(difficulties[0], difficulties[1], turn_totals[0], turn_totals[1], scores[0], scores[1], num_turns_held[0], num_turns_held[1], current_player):\n",
    "                roll = random.randint(1,6)\n",
    "                if roll == 1:\n",
    "                    turn_totals[current_player] = 0\n",
    "                else:\n",
    "                    turn_totals[current_player] += roll\n",
    "#                 print(f\"Roll: {roll} ({turn_totals[current_player]})\")\n",
    "            else:\n",
    "                num_turns_held[current_player] += 1\n",
    "                break\n",
    "#         print(f\"turn total: {turn_totals[current_player]}\")\n",
    "        scores[current_player] += turn_totals[current_player]\n",
    "#         print(scores)\n",
    "#         print(num_turns_held)\n",
    "        current_player = 1 - current_player\n",
    "\n",
    "    return 1 - current_player"
   ]
  },
  {
   "cell_type": "code",
   "execution_count": 183,
   "metadata": {},
   "outputs": [],
   "source": [
    "competition_data = np.zeros((5,5))\n",
    "\n",
    "t = 100_000\n",
    "\n",
    "for a in range(5):\n",
    "    for b in range(5):\n",
    "        s = 0\n",
    "        for _ in range(t):\n",
    "            s += (0 == simulate_game(a,b))\n",
    "        competition_data[a][b] = s/t"
   ]
  },
  {
   "cell_type": "code",
   "execution_count": 184,
   "metadata": {},
   "outputs": [
    {
     "data": {
      "text/plain": [
       "array([[0.53312, 0.52193, 0.51904, 0.56537, 0.4868 ],\n",
       "       [0.54349, 0.52898, 0.52723, 0.56244, 0.50764],\n",
       "       [0.54747, 0.53313, 0.53465, 0.57077, 0.51407],\n",
       "       [0.50125, 0.49566, 0.49514, 0.5337 , 0.47774],\n",
       "       [0.57576, 0.55445, 0.54878, 0.5853 , 0.53043]])"
      ]
     },
     "execution_count": 184,
     "metadata": {},
     "output_type": "execute_result"
    }
   ],
   "source": [
    "competition_data"
   ]
  },
  {
   "cell_type": "raw",
   "metadata": {},
   "source": [
    "t = 10_000\n",
    "\n",
    "[0.5372, 0.5323, 0.5103, 0.5564, 0.4872]\n",
    "[0.5325, 0.5312, 0.5362, 0.5623, 0.5077]\n",
    "[0.543 , 0.528 , 0.5384, 0.5705, 0.5121]\n",
    "[0.4992, 0.4916, 0.4988, 0.5293, 0.485 ]\n",
    "[0.5841, 0.5598, 0.5504, 0.583 , 0.5262]\n",
    "\n",
    "\n",
    "\n",
    "t = 10_000\n",
    "\n",
    "[0.5329, 0.5227, 0.5144, 0.5554, 0.4923]\n",
    "[0.5286, 0.5281, 0.5192, 0.5586, 0.5093]\n",
    "[0.5451, 0.5348, 0.5275, 0.5604, 0.5062]\n",
    "[0.49  , 0.4907, 0.49  , 0.5373, 0.4853]\n",
    "[0.5826, 0.5547, 0.5522, 0.5784, 0.536 ]\n",
    "\n",
    "\n",
    "\n",
    "t = 100_000\n",
    "\n",
    "[0.53312, 0.52193, 0.51904, 0.56537, 0.4868 ]\n",
    "[0.54349, 0.52898, 0.52723, 0.56244, 0.50764]\n",
    "[0.54747, 0.53313, 0.53465, 0.57077, 0.51407]\n",
    "[0.50125, 0.49566, 0.49514, 0.5337 , 0.47774]\n",
    "[0.57576, 0.55445, 0.54878, 0.5853 , 0.53043]"
   ]
  }
 ],
 "metadata": {
  "kernelspec": {
   "display_name": "Python 3",
   "language": "python",
   "name": "python3"
  },
  "language_info": {
   "codemirror_mode": {
    "name": "ipython",
    "version": 3
   },
   "file_extension": ".py",
   "mimetype": "text/x-python",
   "name": "python",
   "nbconvert_exporter": "python",
   "pygments_lexer": "ipython3",
   "version": "3.7.7"
  }
 },
 "nbformat": 4,
 "nbformat_minor": 4
}
